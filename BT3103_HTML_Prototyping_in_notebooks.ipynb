{
  "nbformat": 4,
  "nbformat_minor": 0,
  "metadata": {
    "colab": {
      "name": "BT3103 HTML Prototyping in notebooks.ipynb",
      "version": "0.3.2",
      "provenance": [],
      "collapsed_sections": [
        "KHilI5LgfRXS"
      ],
      "include_colab_link": true
    },
    "kernelspec": {
      "name": "python3",
      "display_name": "Python 3"
    }
  },
  "cells": [
    {
      "cell_type": "markdown",
      "metadata": {
        "id": "view-in-github",
        "colab_type": "text"
      },
      "source": [
        "[View in Colaboratory](https://colab.research.google.com/github/zh-tan/bt3103-web/blob/master/BT3103_HTML_Prototyping_in_notebooks.ipynb)"
      ]
    },
    {
      "metadata": {
        "id": "wvxuW8-XngP7",
        "colab_type": "code",
        "colab": {
          "base_uri": "https://localhost:8080/",
          "height": 57
        },
        "outputId": "de1dd530-3fd0-4030-e1bb-ec2f32fb20db"
      },
      "cell_type": "code",
      "source": [
        "from IPython.core.display import display, HTML\n",
        "display(HTML('<h3>You can render HTML in a Jupyter notebook</h3>'))"
      ],
      "execution_count": 26,
      "outputs": [
        {
          "output_type": "display_data",
          "data": {
            "text/html": [
              "<h3>You can render HTML in a Jupyter notebook</h3>"
            ],
            "text/plain": [
              "<IPython.core.display.HTML object>"
            ]
          },
          "metadata": {
            "tags": []
          }
        }
      ]
    },
    {
      "metadata": {
        "id": "yi4bFdwGn6av",
        "colab_type": "code",
        "colab": {
          "base_uri": "https://localhost:8080/",
          "height": 38
        },
        "outputId": "8351fda8-2259-41a4-a118-70bd8e25265f"
      },
      "cell_type": "code",
      "source": [
        "# This can be an easy way to develop simple form for your AWS lambda functions. \n",
        "\n",
        "theHTML = \"\"\"\n",
        "<div>\n",
        "  Enter your name:\n",
        "  <input type='text'></input>\n",
        "  <button>Submit</button>\n",
        "</div>\n",
        "\"\"\"\n",
        "display(HTML(theHTML))"
      ],
      "execution_count": 27,
      "outputs": [
        {
          "output_type": "display_data",
          "data": {
            "text/html": [
              "\n",
              "<div>\n",
              "  Enter your name:\n",
              "  <input type='text'></input>\n",
              "  <button>Submit</button>\n",
              "</div>\n"
            ],
            "text/plain": [
              "<IPython.core.display.HTML object>"
            ]
          },
          "metadata": {
            "tags": []
          }
        }
      ]
    },
    {
      "metadata": {
        "id": "p0vJ3su1qtbV",
        "colab_type": "code",
        "colab": {
          "base_uri": "https://localhost:8080/",
          "height": 38
        },
        "outputId": "c46fdb91-c798-4f6b-de05-338d7c710b4b"
      },
      "cell_type": "code",
      "source": [
        "# We can configure forms to take actions when buttons are clicked. \n",
        "\n",
        "buttonHTML = \"\"\"\n",
        "<script>\n",
        "  \n",
        "var doSomething = function(message){\n",
        "  console.log(\"Logging the message\",message);\n",
        "}\n",
        "\n",
        "</script>\n",
        "<div>\n",
        "  <button onclick=\"doSomething('Hello')\">Click to log a message.</button> \n",
        "</div>\n",
        "\"\"\"\n",
        "display(HTML(buttonHTML))"
      ],
      "execution_count": 28,
      "outputs": [
        {
          "output_type": "display_data",
          "data": {
            "text/html": [
              "\n",
              "<script>\n",
              "  \n",
              "var doSomething = function(message){\n",
              "  console.log(\"Logging the message\",message);\n",
              "}\n",
              "\n",
              "</script>\n",
              "<div>\n",
              "  <button onclick=\"doSomething('Hello')\">Click to log a message.</button> \n",
              "</div>\n"
            ],
            "text/plain": [
              "<IPython.core.display.HTML object>"
            ]
          },
          "metadata": {
            "tags": []
          }
        }
      ]
    },
    {
      "metadata": {
        "id": "xU1Tk8hMp7XF",
        "colab_type": "code",
        "colab": {
          "base_uri": "https://localhost:8080/",
          "height": 38
        },
        "outputId": "f74c3ad6-b9f4-4f10-9b5b-1e807f712881"
      },
      "cell_type": "code",
      "source": [
        "# Prototyping a vue application in a Jupyter notebook.\n",
        "# Examples: https://vuejs.org/v2/guide/index.html\n",
        "\n",
        "vueApp = \"\"\"\n",
        "<html>\n",
        "\n",
        "<head>\n",
        "\t<title>Plain HTML Sandbox</title>\n",
        "</head>\n",
        "\n",
        "<body>\n",
        "  <div id=\"app\">\n",
        "\t  Counter {{counter}}\n",
        "\t  <button v-on:click=\"increment()\">Increment</button>\n",
        "\t  <button v-on:click=\"reset()\">Reset</button>\n",
        "\n",
        "  </div>\n",
        "\n",
        "  <script src=\"https://unpkg.com/vue\"></script>\n",
        "\n",
        "  <script>\n",
        "\n",
        "    var app = new Vue({\n",
        "      el:\"#app\",\n",
        "      data: {\n",
        "       counter: 0, \n",
        "       databaseUrl: 'https://boesch-4.firebaseio.com/temp2.json',\n",
        "      },\n",
        "\t  mounted: function () { //Will start at zero if you don't update on init\n",
        "        this.update();\n",
        "      },\n",
        "    methods:{\n",
        "        increment: function(){\n",
        "          this.counter++\n",
        "          this.setRemoteCounter(this.counter)\n",
        "        },\n",
        "        reset: function(){\n",
        "          // Post to the counter to set it to zero. \n",
        "          this.counter = 0\n",
        "\t\t      this.setRemoteCounter(this.counter)          \n",
        "        },\n",
        "\t\t\t\t setRemoteCounter: async function(newVal){ \n",
        "           // Post to the counter to set it to zero. \n",
        "           let res = await fetch(this.databaseUrl, { \n",
        "              method:'put', \n",
        "              body: JSON.stringify({'counter':newVal})\n",
        "\t\t\t\t    }) \n",
        "\n",
        "          let theJson = await res.json()\n",
        "          console.log(theJson)\n",
        "\n",
        "         },\n",
        "        update: async function() {\n",
        "          let res = await fetch(this.databaseUrl) \n",
        "          let theJson = await res.json()\n",
        "          console.log(\"Updated remote counter\",theJson)\n",
        "\t\t      if(theJson && theJson.counter) {\n",
        "            console.log(\"here\")\n",
        "              this.counter = theJson.counter\n",
        "          }\n",
        "\t\t\t      \n",
        "        }\n",
        "      }\n",
        "    })\n",
        "\n",
        "  </script>\n",
        "</body>\n",
        "\n",
        "</html>\n",
        "\"\"\"\n",
        "display(HTML(vueApp))"
      ],
      "execution_count": 29,
      "outputs": [
        {
          "output_type": "display_data",
          "data": {
            "text/html": [
              "\n",
              "<html>\n",
              "\n",
              "<head>\n",
              "\t<title>Plain HTML Sandbox</title>\n",
              "</head>\n",
              "\n",
              "<body>\n",
              "  <div id=\"app\">\n",
              "\t  Counter {{counter}}\n",
              "\t  <button v-on:click=\"increment()\">Increment</button>\n",
              "\t  <button v-on:click=\"reset()\">Reset</button>\n",
              "\n",
              "  </div>\n",
              "\n",
              "  <script src=\"https://unpkg.com/vue\"></script>\n",
              "\n",
              "  <script>\n",
              "\n",
              "    var app = new Vue({\n",
              "      el:\"#app\",\n",
              "      data: {\n",
              "       counter: 0, \n",
              "       databaseUrl: 'https://boesch-4.firebaseio.com/temp2.json',\n",
              "      },\n",
              "\t  mounted: function () { //Will start at zero if you don't update on init\n",
              "        this.update();\n",
              "      },\n",
              "    methods:{\n",
              "        increment: function(){\n",
              "          this.counter++\n",
              "          this.setRemoteCounter(this.counter)\n",
              "        },\n",
              "        reset: function(){\n",
              "          // Post to the counter to set it to zero. \n",
              "          this.counter = 0\n",
              "\t\t      this.setRemoteCounter(this.counter)          \n",
              "        },\n",
              "\t\t\t\t setRemoteCounter: async function(newVal){ \n",
              "           // Post to the counter to set it to zero. \n",
              "           let res = await fetch(this.databaseUrl, { \n",
              "              method:'put', \n",
              "              body: JSON.stringify({'counter':newVal})\n",
              "\t\t\t\t    }) \n",
              "\n",
              "          let theJson = await res.json()\n",
              "          console.log(theJson)\n",
              "\n",
              "         },\n",
              "        update: async function() {\n",
              "          let res = await fetch(this.databaseUrl) \n",
              "          let theJson = await res.json()\n",
              "          console.log(\"Updated remote counter\",theJson)\n",
              "\t\t      if(theJson && theJson.counter) {\n",
              "            console.log(\"here\")\n",
              "              this.counter = theJson.counter\n",
              "          }\n",
              "\t\t\t      \n",
              "        }\n",
              "      }\n",
              "    })\n",
              "\n",
              "  </script>\n",
              "</body>\n",
              "\n",
              "</html>\n"
            ],
            "text/plain": [
              "<IPython.core.display.HTML object>"
            ]
          },
          "metadata": {
            "tags": []
          }
        }
      ]
    },
    {
      "metadata": {
        "id": "MDeyZoh5Sy1V",
        "colab_type": "code",
        "colab": {
          "base_uri": "https://localhost:8080/",
          "height": 3500
        },
        "outputId": "a1e99d64-0224-4541-bfcb-1fcf61413137"
      },
      "cell_type": "code",
      "source": [
        "# Graphs. \n",
        "\n",
        "graphs = \"\"\"\n",
        "<html>\n",
        "\n",
        "<head>\n",
        "\t<title>Plain HTML Sandbox</title>\n",
        "\t<meta charset=\"UTF-8\" />\n",
        "</head>\n",
        "\n",
        "<body>\n",
        "\n",
        "<script src=\"https://www.gstatic.com/firebasejs/3.7.4/firebase.js\"></script>\n",
        "<script src=\"https://unpkg.com/vue\"></script>\n",
        "<script src=\"https://unpkg.com/vuex\"></script>\n",
        "<script src=\"https://unpkg.com/vuexfire\"></script>\n",
        "<script src=\"https://unpkg.com/chart.js@2.7.2/dist/Chart.bundle.js\"></script>\n",
        "<script src=\"https://unpkg.com/vue-chartkick@0.4.0\"></script>\n",
        "<script type=\"text/javascript\" src=\"https://www.gstatic.com/charts/loader.js\"></script>\n",
        "\n",
        "<div id=\"app\">\n",
        "  <h2> Charts based on <a href=\"https://github.com/ankane/vue-chartkick\">vue-chartkick</a> </h2>\n",
        "\t\n",
        " Line chart\n",
        "\n",
        "<line-chart :data=\"{'2017-01-01': 11, '2017-01-02': 6}\"></line-chart>\n",
        "Pie chart\n",
        "\n",
        "<pie-chart :data=\"[['Blueberry', 44], ['Strawberry', 23]]\"></pie-chart>\n",
        "Column chart\n",
        "\n",
        "<column-chart :data=\"[['Sun', 32], ['Mon', 46], ['Tue', 28]]\"></column-chart>\n",
        "Bar chart\n",
        "\n",
        "<bar-chart :data=\"[['Work', 32], ['Play', 1492]]\"></bar-chart>\n",
        "Area chart\n",
        "\n",
        "<area-chart :data=\"{'2017-01-01': 11, '2017-01-02': 6}\"></area-chart>\n",
        "Scatter chart\n",
        "\n",
        "<scatter-chart :data=\"[[174.0, 80.0], [176.5, 82.3]]\" xtitle=\"Size\" ytitle=\"Population\"></scatter-chart>\n",
        "\n",
        "Geo chart - Google Charts\n",
        "\n",
        "<geo-chart :data=\"[['United States', 44], ['Germany', 23], ['Brazil', 22]]\"></geo-chart>\n",
        "Timeline - Google Charts\n",
        "\n",
        "<timeline :data=\"[['Washington', '1789-04-29', '1797-03-03'], ['Adams', '1797-03-03', '1801-03-03']]\"></timeline>\n",
        "\n",
        "<line-chart :data=\"[[new Date(), 5], [1368174456, 4], ['2017-01-01 00:00:00 UTC', 7]]\"></line-chart>\n",
        " \n",
        "<pie-chart :data=\"{'Blueberry': 44, 'Strawberry': 23}\"></pie-chart>\n",
        "\n",
        "<line-chart :data=\"chartData\"></line-chart>\n",
        "</div>\n",
        "\n",
        "<script>\n",
        "\tvar app = new Vue({\n",
        "    el: \"#app\",\n",
        "    data: {\n",
        "      chartData: [[\"Jan\", 4], [\"Feb\", 2], [\"Mar\", 10], [\"Apr\", 5], [\"May\", 3]]\n",
        "    }\n",
        "  })\n",
        "\n",
        "</script>\n",
        "\n",
        "</body>\n",
        "\n",
        "</html>\n",
        "\n",
        "\"\"\"\n",
        "display(HTML(graphs))"
      ],
      "execution_count": 30,
      "outputs": [
        {
          "output_type": "display_data",
          "data": {
            "text/html": [
              "\n",
              "<html>\n",
              "\n",
              "<head>\n",
              "\t<title>Plain HTML Sandbox</title>\n",
              "\t<meta charset=\"UTF-8\" />\n",
              "</head>\n",
              "\n",
              "<body>\n",
              "\n",
              "<script src=\"https://www.gstatic.com/firebasejs/3.7.4/firebase.js\"></script>\n",
              "<script src=\"https://unpkg.com/vue\"></script>\n",
              "<script src=\"https://unpkg.com/vuex\"></script>\n",
              "<script src=\"https://unpkg.com/vuexfire\"></script>\n",
              "<script src=\"https://unpkg.com/chart.js@2.7.2/dist/Chart.bundle.js\"></script>\n",
              "<script src=\"https://unpkg.com/vue-chartkick@0.4.0\"></script>\n",
              "<script type=\"text/javascript\" src=\"https://www.gstatic.com/charts/loader.js\"></script>\n",
              "\n",
              "<div id=\"app\">\n",
              "  <h2> Charts based on <a href=\"https://github.com/ankane/vue-chartkick\">vue-chartkick</a> </h2>\n",
              "\t\n",
              " Line chart\n",
              "\n",
              "<line-chart :data=\"{'2017-01-01': 11, '2017-01-02': 6}\"></line-chart>\n",
              "Pie chart\n",
              "\n",
              "<pie-chart :data=\"[['Blueberry', 44], ['Strawberry', 23]]\"></pie-chart>\n",
              "Column chart\n",
              "\n",
              "<column-chart :data=\"[['Sun', 32], ['Mon', 46], ['Tue', 28]]\"></column-chart>\n",
              "Bar chart\n",
              "\n",
              "<bar-chart :data=\"[['Work', 32], ['Play', 1492]]\"></bar-chart>\n",
              "Area chart\n",
              "\n",
              "<area-chart :data=\"{'2017-01-01': 11, '2017-01-02': 6}\"></area-chart>\n",
              "Scatter chart\n",
              "\n",
              "<scatter-chart :data=\"[[174.0, 80.0], [176.5, 82.3]]\" xtitle=\"Size\" ytitle=\"Population\"></scatter-chart>\n",
              "\n",
              "Geo chart - Google Charts\n",
              "\n",
              "<geo-chart :data=\"[['United States', 44], ['Germany', 23], ['Brazil', 22]]\"></geo-chart>\n",
              "Timeline - Google Charts\n",
              "\n",
              "<timeline :data=\"[['Washington', '1789-04-29', '1797-03-03'], ['Adams', '1797-03-03', '1801-03-03']]\"></timeline>\n",
              "\n",
              "<line-chart :data=\"[[new Date(), 5], [1368174456, 4], ['2017-01-01 00:00:00 UTC', 7]]\"></line-chart>\n",
              " \n",
              "<pie-chart :data=\"{'Blueberry': 44, 'Strawberry': 23}\"></pie-chart>\n",
              "\n",
              "<line-chart :data=\"chartData\"></line-chart>\n",
              "</div>\n",
              "\n",
              "<script>\n",
              "\tvar app = new Vue({\n",
              "    el: \"#app\",\n",
              "    data: {\n",
              "      chartData: [[\"Jan\", 4], [\"Feb\", 2], [\"Mar\", 10], [\"Apr\", 5], [\"May\", 3]]\n",
              "    }\n",
              "  })\n",
              "\n",
              "</script>\n",
              "\n",
              "</body>\n",
              "\n",
              "</html>\n",
              "\n"
            ],
            "text/plain": [
              "<IPython.core.display.HTML object>"
            ]
          },
          "metadata": {
            "tags": []
          }
        }
      ]
    },
    {
      "metadata": {
        "id": "eg4SbXx90cjt",
        "colab_type": "code",
        "colab": {
          "base_uri": "https://localhost:8080/",
          "height": 51
        },
        "outputId": "5aeac555-61ea-4618-9225-b63c47ad8113"
      },
      "cell_type": "code",
      "source": [
        "# You can use python to acccess your firebase data\n",
        "\n",
        "\n",
        "import json\n",
        "import urllib.request\n",
        "\n",
        "url = \"https://bt3103-rocks.firebaseio.com/.json\"\n",
        "\n",
        "response = urllib.request.urlopen(url)\n",
        "data = response.read()      # a `bytes` object\n",
        "text = data.decode('utf-8') # a `str`; this step can't be used if data is binary\n",
        "print(\"The text\", text)\n",
        "myDictionary = json.loads(text)\n",
        "print(\"The dictionary\", myDictionary)"
      ],
      "execution_count": 31,
      "outputs": [
        {
          "output_type": "stream",
          "text": [
            "The text {\"hello\":\"class\"}\n",
            "The dictionary {'hello': 'class'}\n"
          ],
          "name": "stdout"
        }
      ]
    },
    {
      "metadata": {
        "id": "8tisAOn31mnZ",
        "colab_type": "code",
        "colab": {
          "base_uri": "https://localhost:8080/",
          "height": 119
        },
        "outputId": "ca168068-c292-46a7-a8fc-d740f91b7699"
      },
      "cell_type": "code",
      "source": [
        "# Posting data\n",
        "\n",
        "import requests\n",
        "import json\n",
        "import time\n",
        "\n",
        "\n",
        "# Replace this with your firebase project url\n",
        "firebaseProject = \"https://bt3103-rocks.firebaseio.com\"\n",
        "url = firebaseProject+\"/hello.json\"\n",
        "\n",
        "# Get data using python requests\n",
        "resp = requests.get(url=url)\n",
        "print(\"Data before put ->\", resp.text)\n",
        "\n",
        "newData = \"class\"\n",
        "resp = requests.put(url=url, \n",
        "                    data=json.dumps(newData))\n",
        "\n",
        "print(\"Response text from put ->\", resp.text)\n",
        "\n",
        "# Get data using python requests\n",
        "resp = requests.get(url=url)\n",
        "print(\"Data after put ->\", resp.text)"
      ],
      "execution_count": 32,
      "outputs": [
        {
          "output_type": "stream",
          "text": [
            "Data before put -> \"class\"\n",
            "Response text from put -> {\n",
            "  \"error\" : \"Permission denied\"\n",
            "}\n",
            "\n",
            "Data after put -> \"class\"\n"
          ],
          "name": "stdout"
        }
      ]
    },
    {
      "metadata": {
        "id": "6UlV8s5C40cy",
        "colab_type": "text"
      },
      "cell_type": "markdown",
      "source": [
        "Create a python function to increment your Firebase counter. "
      ]
    },
    {
      "metadata": {
        "id": "cRkP7UWtfQtN",
        "colab_type": "code",
        "colab": {}
      },
      "cell_type": "code",
      "source": [
        "def incrementFirebaseCounter():\n",
        "  pass\n",
        "\n",
        "\n",
        "\n",
        "\n",
        "incrementFirebaseCounter()"
      ],
      "execution_count": 0,
      "outputs": []
    }
  ]
}