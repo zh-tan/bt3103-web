{
  "nbformat": 4,
  "nbformat_minor": 0,
  "metadata": {
    "colab": {
      "name": "BT3103 Spreadsheet data.ipynb",
      "version": "0.3.2",
      "provenance": [],
      "include_colab_link": true
    },
    "kernelspec": {
      "name": "python3",
      "display_name": "Python 3"
    }
  },
  "cells": [
    {
      "cell_type": "markdown",
      "metadata": {
        "id": "view-in-github",
        "colab_type": "text"
      },
      "source": [
        "[View in Colaboratory](https://colab.research.google.com/github/zh-tan/bt3103-web/blob/master/BT3103_Spreadsheet_data.ipynb)"
      ]
    },
    {
      "metadata": {
        "id": "Z054bikH4d2O",
        "colab_type": "code",
        "colab": {}
      },
      "cell_type": "code",
      "source": [
        ""
      ],
      "execution_count": 0,
      "outputs": []
    },
    {
      "metadata": {
        "id": "rtgVZNnv4nnZ",
        "colab_type": "code",
        "colab": {
          "base_uri": "https://localhost:8080/",
          "height": 84
        },
        "outputId": "c5e78bd3-0505-4879-94fc-9813ca4895c5"
      },
      "cell_type": "code",
      "source": [
        "# Create a spreadsheet and make it publically viewable. \n",
        "# https://docs.google.com/spreadsheets/d/1zDFWwWLaPu5Wmlz6VQJqGaTsl7TuleoxZYdn8B3zFS0/edit#gid=0\n",
        "\n",
        "# Extract the sheetKey and the sheetName you want to access data for. \n",
        "sheetKey = \"1zDFWwWLaPu5Wmlz6VQJqGaTsl7TuleoxZYdn8B3zFS0\"\n",
        "sheetName = \"Sheet1\"\n",
        "\n",
        "url = \"https://docs.google.com/spreadsheets/d/{}/gviz/tq?tqx=out:csv&sheet={}\".format(sheetKey, sheetName)\n",
        "\n",
        "import urllib.request\n",
        "response = urllib.request.urlopen(url)\n",
        "data = response.read()      # a `bytes` object\n",
        "text = data.decode('utf-8') # a `str`; this step can't be used if data is binary\n",
        "print(text)"
      ],
      "execution_count": 4,
      "outputs": [
        {
          "output_type": "stream",
          "text": [
            "\"Name\",\"Age\"\n",
            "\"Tom\",\"22\"\n",
            "\"Sara\",\"21\"\n",
            "\"Ying\",\"19\"\n"
          ],
          "name": "stdout"
        }
      ]
    },
    {
      "metadata": {
        "id": "blwRot1C6KEJ",
        "colab_type": "code",
        "colab": {}
      },
      "cell_type": "code",
      "source": [
        "# Create your own spreadsheet and data. \n",
        "# Download and display your data. \n"
      ],
      "execution_count": 0,
      "outputs": []
    },
    {
      "metadata": {
        "id": "_i7fDeGXEHAQ",
        "colab_type": "code",
        "colab": {}
      },
      "cell_type": "code",
      "source": [
        ""
      ],
      "execution_count": 0,
      "outputs": []
    }
  ]
}